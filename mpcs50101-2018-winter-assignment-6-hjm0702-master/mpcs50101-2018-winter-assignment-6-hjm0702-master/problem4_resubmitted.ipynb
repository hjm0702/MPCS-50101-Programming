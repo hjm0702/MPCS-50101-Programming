{
 "cells": [
  {
   "cell_type": "code",
   "execution_count": 2,
   "metadata": {},
   "outputs": [
    {
     "name": "stdout",
     "output_type": "stream",
     "text": [
      "Please input a time in seconds :3\n",
      "3\n",
      "2\n",
      "1\n",
      "0\n",
      "BLASTOFF!\n"
     ]
    },
    {
     "data": {
      "text/plain": [
       "<__main__.Timer instance at 0x00000000063D5C08>"
      ]
     },
     "execution_count": 2,
     "metadata": {},
     "output_type": "execute_result"
    }
   ],
   "source": [
    "'''This works correctly, but your code should all (but like two lines) be within\n",
    "your countdown timer class. Try writing an init function that gets and validates user\n",
    "input and a method that does the countdown.'''\n",
    "\n",
    "'''My understanding of your grading is I have to put codes under __init__ fuction.\n",
    "So, I tried that as below.'''\n",
    "\n",
    "import time\n",
    "import re\n",
    "\n",
    "class Timer:\n",
    "    '''created own counter'''\n",
    "    def __init__(self):\n",
    "        lastword = \"BLASTOFF!\"\n",
    "        seconds = raw_input(\"Please input a time in seconds :\")\n",
    "        try :\n",
    "            if re.search (r'\\s', seconds):\n",
    "                print \"Please input a positive integer without any space.\"\n",
    "            elif re.search (r'^\\d+$', seconds):\n",
    "                time_int = int(seconds)\n",
    "\n",
    "                while time_int >= 0:\n",
    "                    print time_int\n",
    "                    time.sleep( 1 )\n",
    "                    time_int -= 1\n",
    "                print lastword\n",
    "            else:\n",
    "                print \"Please input a positive integer!\"\n",
    "        except:\n",
    "            print \"Please input a positive integer\"\n",
    "\n",
    "Timer()\n"
   ]
  },
  {
   "cell_type": "code",
   "execution_count": null,
   "metadata": {
    "collapsed": true
   },
   "outputs": [],
   "source": []
  }
 ],
 "metadata": {
  "kernelspec": {
   "display_name": "Python 2",
   "language": "python",
   "name": "python2"
  },
  "language_info": {
   "codemirror_mode": {
    "name": "ipython",
    "version": 2
   },
   "file_extension": ".py",
   "mimetype": "text/x-python",
   "name": "python",
   "nbconvert_exporter": "python",
   "pygments_lexer": "ipython2",
   "version": "2.7.14"
  }
 },
 "nbformat": 4,
 "nbformat_minor": 2
}
