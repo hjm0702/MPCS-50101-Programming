{
 "cells": [
  {
   "cell_type": "code",
   "execution_count": 27,
   "metadata": {},
   "outputs": [
    {
     "name": "stdout",
     "output_type": "stream",
     "text": [
      "Please input a time in seconds :3\n",
      "3\n",
      "2\n",
      "1\n",
      "0\n",
      "BLASTOFF!\n"
     ]
    }
   ],
   "source": [
    "import time\n",
    "import re\n",
    "\n",
    "class Timer:\n",
    "    '''created own counter'''\n",
    "    def __init__(self, lastword):\n",
    "        # '''set seconds to go'''\n",
    "        # self.seconds = seconds\n",
    "        # '''set sleeping time'''\n",
    "        # self.sleep = sleep\n",
    "        # '''set last word'''\n",
    "        self.lastword = lastword\n",
    "\n",
    "def userinput():\n",
    "    return raw_input(\"Please input a time in seconds :\")\n",
    "\n",
    "my =Timer(\"BLASTOFF!\")\n",
    "\n",
    "def countdown():\n",
    "    try :\n",
    "        t = userinput()\n",
    "        if re.search (r'^\\d+$', t):\n",
    "            time_int = int(t)\n",
    "\n",
    "            while time_int >= 0:\n",
    "                print time_int\n",
    "                time.sleep( 1 )\n",
    "                time_int -= 1\n",
    "            print my.lastword\n",
    "        else:\n",
    "            print \"Please input an positive integer\"\n",
    "    except:\n",
    "        print \"Please input an positive integer\"\n",
    "\n",
    "countdown()\n"
   ]
  },
  {
   "cell_type": "markdown",
   "metadata": {
    "collapsed": true
   },
   "source": [
    "This is markdown"
   ]
  },
  {
   "cell_type": "code",
   "execution_count": null,
   "metadata": {
    "collapsed": true
   },
   "outputs": [],
   "source": []
  }
 ],
 "metadata": {
  "kernelspec": {
   "display_name": "Python 2",
   "language": "python",
   "name": "python2"
  },
  "language_info": {
   "codemirror_mode": {
    "name": "ipython",
    "version": 2
   },
   "file_extension": ".py",
   "mimetype": "text/x-python",
   "name": "python",
   "nbconvert_exporter": "python",
   "pygments_lexer": "ipython2",
   "version": "2.7.14"
  }
 },
 "nbformat": 4,
 "nbformat_minor": 2
}
